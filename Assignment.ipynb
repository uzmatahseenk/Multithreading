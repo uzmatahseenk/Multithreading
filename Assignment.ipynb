{
 "cells": [
  {
   "cell_type": "code",
   "execution_count": 1,
   "id": "72e6214f-05a1-457f-94d0-cfa24ad6aa36",
   "metadata": {},
   "outputs": [],
   "source": [
    "#Ans-1 Multithreading is defined as the ability of a processor\n",
    "#to execute multiple threads concurrently. In a simple, single-core CPU,\n",
    "#it is achieved using frequent switching between threads. \n",
    "#This is termed context switching. \n",
    "#The main reason for incorporating threads into an application\n",
    "#is to improve its performance. Performance can be expressed in\n",
    "#multiple ways: A web server will utilize multiple threads \n",
    "#to simultaneous process requests for data at the same time.\n",
    "#Threading modules are used to handle threads in python."
   ]
  },
  {
   "cell_type": "code",
   "execution_count": 2,
   "id": "9e199ce2-8f6b-48b9-8964-267dbce83450",
   "metadata": {},
   "outputs": [],
   "source": [
    "#Ans-2 Python threading allows you to have different parts of your\n",
    "#program run concurrently and can simplify your design.\n",
    "\n",
    "#1 threading.activeCount() − Returns the number of thread \n",
    "#objects that are active.\n",
    "\n",
    "#2 threading.currentThread() − Returns the number of thread \n",
    "#objects in the caller's thread control.\n",
    "\n",
    "#3.threading.enumerate() − Returns a list of all thread \n",
    "#objects that are currently active."
   ]
  },
  {
   "cell_type": "code",
   "execution_count": 3,
   "id": "c7321294-17e5-44e9-b73d-055864008c3a",
   "metadata": {},
   "outputs": [],
   "source": [
    "#Ans 3\n",
    "#1. run() − The run() method is the entry point for a thread.\n",
    "\n",
    "#2.start() − The start() method starts a thread\n",
    "#by calling the run method.\n",
    "\n",
    "#3. join([time]) − The join() waits for threads to terminate.\n",
    "\n",
    "#4. isAlive() − The isAlive() method checks whether a thread\n",
    "#is still executing."
   ]
  },
  {
   "cell_type": "code",
   "execution_count": 7,
   "id": "2bbe78b9-1380-48ea-95c8-9c1e4951455a",
   "metadata": {},
   "outputs": [],
   "source": [
    "import threading"
   ]
  },
  {
   "cell_type": "code",
   "execution_count": 20,
   "id": "d79d7bf6-77a7-40f7-927d-f219acb36d1f",
   "metadata": {},
   "outputs": [
    {
     "name": "stdout",
     "output_type": "stream",
     "text": [
      "1\n",
      "4\n",
      "9\n",
      "16\n",
      "25\n",
      "1\n",
      "8\n",
      "27\n",
      "64\n",
      "125\n"
     ]
    }
   ],
   "source": [
    "l= [1,2,3,4,5]\n",
    "\n",
    "class Squares:\n",
    "    def run(self):\n",
    "        for i in l:\n",
    "            print(i**2)\n",
    "            \n",
    "class Cubes:\n",
    "    def run(self):\n",
    "        for i in l:\n",
    "            print(i**3)\n",
    "            \n",
    "t1= Squares()\n",
    "t2=Cubes()\n",
    "\n",
    "t1.run()\n",
    "t2.run()\n"
   ]
  },
  {
   "cell_type": "code",
   "execution_count": 21,
   "id": "031064f5-51de-4c8d-a643-feab3d26ee69",
   "metadata": {},
   "outputs": [],
   "source": [
    "#Ans-5 The Thread class has the following advantages:\n",
    "\n",
    "#1. Threads can be utilized to free up the main thread.\n",
    "#2. Threads can be used to break up a task into smaller \n",
    "#units that can be executed concurrently.\n",
    "\n",
    "#The Thread class has the following disadvantages:\n",
    "\n",
    "#1. With more threads, the code becomes difficult to debug and maintain.\n",
    "#2, Thread creation puts a load on the system in terms of memory and CPU resources.\n",
    "#3.We need to do exception handling inside the worker method as any unhandled\n",
    "#exceptions can result in the program crashing."
   ]
  },
  {
   "cell_type": "code",
   "execution_count": null,
   "id": "c2fdf47e-492b-4920-b079-2fba4579b056",
   "metadata": {},
   "outputs": [],
   "source": []
  }
 ],
 "metadata": {
  "kernelspec": {
   "display_name": "Python 3 (ipykernel)",
   "language": "python",
   "name": "python3"
  },
  "language_info": {
   "codemirror_mode": {
    "name": "ipython",
    "version": 3
   },
   "file_extension": ".py",
   "mimetype": "text/x-python",
   "name": "python",
   "nbconvert_exporter": "python",
   "pygments_lexer": "ipython3",
   "version": "3.10.8"
  }
 },
 "nbformat": 4,
 "nbformat_minor": 5
}
